{
 "cells": [
  {
   "cell_type": "markdown",
   "metadata": {},
   "source": [
    "# TorchServe\n",
    "\n",
    "Run this file to locally serve a pretrained NER model available @ https://huggingface.co/models?search=ner&filter=token-classification\n",
    "You can change which model is served @ config.json\n",
    "You can change the ports @ torchserve.config -> also change lit_ner.py API_URL"
   ]
  },
  {
   "cell_type": "code",
   "execution_count": null,
   "metadata": {},
   "outputs": [],
   "source": [
    "model_store_dir = \"./model_store\"\n",
    "serialized = \"./fake_pytorch_model.bin\" # just a fake file because --serialized-file is a required argument\n",
    "model_config = \"./config.json\""
   ]
  },
  {
   "cell_type": "code",
   "execution_count": null,
   "metadata": {},
   "outputs": [],
   "source": [
    "!torch-model-archiver --model-name lit_ner_model \\\n",
    "--version 0.1 \\\n",
    "--serialized-file \"$serialized\" \\\n",
    "--handler ../lit_ner/serve_pretrained.py \\\n",
    "--runtime python3 \\\n",
    "--extra-files \"$model_config\" \\\n",
    "--export-path \"$model_store_dir\" \\\n",
    "# --force "
   ]
  },
  {
   "cell_type": "code",
   "execution_count": null,
   "metadata": {},
   "outputs": [],
   "source": [
    "#start server on the foreground\n",
    "!torchserve --start --ncs --model-store \"$model_store_dir\" --models ner_model=lit_ner_model.mar --ts-config ./torchserve.config --foreground"
   ]
  },
  {
   "cell_type": "markdown",
   "metadata": {},
   "source": [
    "# HELP"
   ]
  },
  {
   "cell_type": "code",
   "execution_count": null,
   "metadata": {},
   "outputs": [],
   "source": [
    "!torchserve --stop"
   ]
  },
  {
   "cell_type": "code",
   "execution_count": null,
   "metadata": {},
   "outputs": [],
   "source": [
    "!torchserve --help"
   ]
  },
  {
   "cell_type": "code",
   "execution_count": null,
   "metadata": {},
   "outputs": [],
   "source": [
    "!torch-model-archiver --help"
   ]
  }
 ],
 "metadata": {
  "kernelspec": {
   "display_name": "Python3-singularity-c",
   "language": "python3",
   "name": "python3_singularity"
  },
  "language_info": {
   "codemirror_mode": {
    "name": "ipython",
    "version": 3
   },
   "file_extension": ".py",
   "mimetype": "text/x-python",
   "name": "python",
   "nbconvert_exporter": "python",
   "pygments_lexer": "ipython3",
   "version": "3.6.9"
  },
  "widgets": {
   "application/vnd.jupyter.widget-state+json": {
    "state": {},
    "version_major": 2,
    "version_minor": 0
   }
  }
 },
 "nbformat": 4,
 "nbformat_minor": 4
}
